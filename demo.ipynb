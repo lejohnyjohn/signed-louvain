{
 "cells": [
  {
   "cell_type": "code",
   "execution_count": 1,
   "id": "ecedb31e",
   "metadata": {},
   "outputs": [],
   "source": [
    "import util\n",
    "import community_detection as cd"
   ]
  },
  {
   "cell_type": "code",
   "execution_count": 2,
   "id": "53d40396",
   "metadata": {},
   "outputs": [],
   "source": [
    "nb_nodes = 8\n",
    "edges = [(0, 1, -1), (1, 2, -1), (2, 3, 1), (3, 4, -1), (4, 5, -1), (5, 6, 1), (6, 7, -1)]\n",
    "graph = util.build_nx_graph(nb_nodes, edges)\n",
    "posgraph, neggraph = util.build_subgraphs(graph, weight='weight')"
   ]
  },
  {
   "cell_type": "code",
   "execution_count": 3,
   "id": "a67b432a",
   "metadata": {},
   "outputs": [],
   "source": [
    "communities = cd.best_partition(layers=[posgraph, neggraph],\n",
    "                                layer_weights=[1., -1.],\n",
    "                                resolutions=[1., 1.],\n",
    "                                masks=[False, True],\n",
    "                                k=2,\n",
    "                                initial_membership=None,\n",
    "                                weight='weight',\n",
    "                                random_state=None,\n",
    "                                pass_max=40,\n",
    "                                return_dendogram=False,\n",
    "                                silent=True)"
   ]
  },
  {
   "cell_type": "code",
   "execution_count": 4,
   "id": "eb4f798e",
   "metadata": {},
   "outputs": [
    {
     "data": {
      "text/plain": [
       "{0: 2, 1: 1, 2: 2, 3: 2, 4: 1, 5: 0, 6: 0, 7: 1}"
      ]
     },
     "execution_count": 4,
     "metadata": {},
     "output_type": "execute_result"
    }
   ],
   "source": [
    "communities"
   ]
  }
 ],
 "metadata": {
  "kernelspec": {
   "display_name": "Python 3 (ipykernel)",
   "language": "python",
   "name": "python3"
  },
  "language_info": {
   "codemirror_mode": {
    "name": "ipython",
    "version": 3
   },
   "file_extension": ".py",
   "mimetype": "text/x-python",
   "name": "python",
   "nbconvert_exporter": "python",
   "pygments_lexer": "ipython3",
   "version": "3.11.5"
  }
 },
 "nbformat": 4,
 "nbformat_minor": 5
}
